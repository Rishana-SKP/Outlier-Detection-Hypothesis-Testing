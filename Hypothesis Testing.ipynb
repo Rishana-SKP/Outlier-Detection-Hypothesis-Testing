{
 "cells": [
  {
   "cell_type": "markdown",
   "id": "a970db03-0bcf-4e7a-b887-2cd30b57825e",
   "metadata": {},
   "source": [
    "# HYPOTHESIS TESTING"
   ]
  },
  {
   "cell_type": "markdown",
   "id": "d487dcda-f605-4917-a19d-59bcd13d15fc",
   "metadata": {},
   "source": [
    "Hypothesis testing is a fundamental statistical method used to make inferences about population parameters based on sample data. It involves formulating two competing hypotheses: the null hypothesis (H0), which typically states that there is no effect or no difference between groups, and the alternative hypothesis (H1), which asserts the presence of an effect or difference. The process generally entails selecting an appropriate statistical test based on the nature of the data and the research question, calculating a test statistic from the sample data, and determining the probability of obtaining such results under the assumption that the null hypothesis is true, known as the p-value. If the p-value is below a predetermined significance level (usually 0.05), the null hypothesis is rejected in favor of the alternative hypothesis, suggesting evidence for the presence of an effect or difference. Otherwise, if the p-value is above the significance level, the null hypothesis is not rejected. Hypothesis testing provides a systematic framework for drawing conclusions from data, aiding researchers in making informed decisions and drawing valid inferences about the population."
   ]
  },
  {
   "cell_type": "markdown",
   "id": "6af0b9ee-6f90-4f3e-8875-08fdd216026b",
   "metadata": {},
   "source": [
    "### TASKS"
   ]
  },
  {
   "cell_type": "markdown",
   "id": "22605d15-4a7d-4c0f-af18-64536a98eba0",
   "metadata": {},
   "source": [
    "#### Q1.Suppose a child psychologist claims that the average time working mothers spend talking to their children is at least 11 minutes per day. You conduct a random sample of 1000 working mothers and find they spend an average of 11.5 minutes per day talking with their children. Assume prior research suggests the population standard deviation is 2.3 minutes.Conduct a test with a level of significance of alpha = 0.05."
   ]
  },
  {
   "cell_type": "markdown",
   "id": "43c85b91-c273-4dc2-a69c-4aebfe6dca49",
   "metadata": {},
   "source": [
    "#Null Hypothesis\n",
    "\n",
    "HO=µ≤11 minutes\n",
    "\n"
   ]
  },
  {
   "cell_type": "markdown",
   "id": "3087f0cd-e4c1-4ba2-bb31-d93a6060fb37",
   "metadata": {},
   "source": [
    "#Alternative Hypothesis\n",
    "\n",
    "Ha=µ>11 minutes   "
   ]
  },
  {
   "cell_type": "markdown",
   "id": "bb4c2c2a-855e-4d84-81a7-e275dd5b9774",
   "metadata": {},
   "source": [
    "x̄=11.5 minutes"
   ]
  },
  {
   "cell_type": "markdown",
   "id": "5b750fab-f430-4259-88b2-81e4b902c6ef",
   "metadata": {},
   "source": [
    "n=1000"
   ]
  },
  {
   "cell_type": "markdown",
   "id": "d3c66005-f7e8-46a7-95be-73c258d4609b",
   "metadata": {},
   "source": [
    "σ=2.3 minutes"
   ]
  },
  {
   "cell_type": "markdown",
   "id": "f2ad6299-6534-4b40-9acb-dad11c51fb38",
   "metadata": {},
   "source": [
    "α = 0.05"
   ]
  },
  {
   "cell_type": "markdown",
   "id": "5e1b9814-ee40-4170-9f64-3dba4d8289e0",
   "metadata": {},
   "source": [
    "#### Statistical Test:\n",
    "Since we have a sample of 1000, which is greater than 30, and we have a sample mean, a known population standard deviation, and want to compare the sample mean to a population value, we'll use a z-test."
   ]
  },
  {
   "cell_type": "markdown",
   "id": "d0079c85-3f7c-45b7-810f-6cdc5ca10e3b",
   "metadata": {},
   "source": [
    "rejection criteria is z_statistic>critical value , fail to accept Ho"
   ]
  },
  {
   "cell_type": "markdown",
   "id": "cca1a2bf-d586-4c0c-be89-7997bf389c52",
   "metadata": {},
   "source": [
    "Formula Z=(x̄-µ)/(σ/√n)"
   ]
  },
  {
   "cell_type": "markdown",
   "id": "045b4c1c-c92a-440c-a8c4-fd07094b2416",
   "metadata": {},
   "source": [
    "Where:\n",
    "x̄ = sample mean (11.5 minutes), \n",
    "μ = population mean (11 minutes), \n",
    "σ = population standard deviation (2.3 minutes), \n",
    "n = sample size (1000)"
   ]
  },
  {
   "cell_type": "code",
   "execution_count": 4,
   "id": "a96a3b65-7e84-45d5-ba22-4cc8d0daa12c",
   "metadata": {},
   "outputs": [],
   "source": [
    "import math"
   ]
  },
  {
   "cell_type": "code",
   "execution_count": 7,
   "id": "ef399fb7-5f83-4e0d-a9ba-34017317bb9a",
   "metadata": {},
   "outputs": [
    {
     "data": {
      "text/plain": [
       "6.874516652539955"
      ]
     },
     "execution_count": 7,
     "metadata": {},
     "output_type": "execute_result"
    }
   ],
   "source": [
    "Z=(11.5-11)/(2.3/math.sqrt(1000))\n",
    "Z"
   ]
  },
  {
   "cell_type": "markdown",
   "id": "a9b0792e-16a0-4df0-9b73-8c0c3cc4e579",
   "metadata": {},
   "source": [
    "#### Determine Critical Value or P-value:\n",
    "\n",
    "Since we're conducting a one-tailed test (since we're testing if the average time is more than 11 minutes), we'll look up the critical value for a z-score corresponding to an alpha level of 0.05 from z-distribution table"
   ]
  },
  {
   "cell_type": "markdown",
   "id": "b6ad6900-5e38-4aa8-8dbf-7cdd9876490b",
   "metadata": {},
   "source": [
    "#corresponds to an alpha level of 0.05.\n",
    "\n",
    "Critical value=1.645 "
   ]
  },
  {
   "cell_type": "markdown",
   "id": "2fdd2d55-73b3-406f-a85c-0c115d3281b8",
   "metadata": {},
   "source": [
    "#### Conslusion:\n",
    "Since our calculated z-score (6.88) is much greater than the critical value (1.645), we reject the null hypothesis.\r\n",
    "We have sufficient evidence to conclude that the average time working mothers spend talking to their children is indeed more than 11 minutes per day\n",
    "."
   ]
  },
  {
   "cell_type": "markdown",
   "id": "12b7768c-a933-4424-80e4-96ed4f61eb31",
   "metadata": {},
   "source": []
  },
  {
   "cell_type": "markdown",
   "id": "d2627d9e-1edf-4caf-a849-78c1629fd7a8",
   "metadata": {},
   "source": [
    "#### Q2. A coffee shop claims that their average wait time for customers is less than 5 minutes. To test this claim, a sample of 40 customers is taken, and their wait times are recorded. The sample mean wait time is found to be 4.6 minutes with a standard deviation of 0.8 minutes. Perform a hypothesis test at a significance level of 0.05 and determine whether there is enough evidence to support the coffee shop's claim."
   ]
  },
  {
   "cell_type": "markdown",
   "id": "5ab8721d-0147-46a5-958a-9a63484ab32c",
   "metadata": {},
   "source": [
    "#Null Hypothesis\n",
    "\n",
    "H0=µ≥5 minutes"
   ]
  },
  {
   "cell_type": "markdown",
   "id": "f5971c60-7983-42e1-8fef-68c436ff169f",
   "metadata": {},
   "source": [
    "#Alternative Hypothesis\n",
    "\n",
    "Ha=µ<5 minutes\n"
   ]
  },
  {
   "cell_type": "markdown",
   "id": "9c1cffa6-a0c5-4618-903d-4c48951a0132",
   "metadata": {},
   "source": [
    "Sample size (n) = 40\n",
    "\n",
    "Sample mean (x̄) = 4.6 minutes\n",
    "\n",
    "Sample Standard deviation (σ) = 0.8 minutes\n",
    "\n",
    "Population mean (μ) = 5 minutes\n",
    "\n",
    "Significance level (α) = 0.05 (5%)\n",
    "\n",
    "degrees of freedom=n-1=39\n"
   ]
  },
  {
   "cell_type": "markdown",
   "id": "12f08e74-73f6-45e8-854c-05227556ad25",
   "metadata": {},
   "source": [
    "#### Statistical Test:\n",
    "In cases where we're unsure about the population standard deviation, opting for a t-test is appropriate. . When dealing with sample sizes that exceed 30, the t-test remains applicable even in cases where the population standard deviation is unknown. This is facilitated by the Central Limit Theorem, which asserts that as the sample size increases, the distribution of sample means tends towards a normal distribution."
   ]
  },
  {
   "cell_type": "markdown",
   "id": "7e1e1904-4ba8-48a2-9e19-a9507cd61e00",
   "metadata": {},
   "source": [
    "Formula t=(x̄-µ)/(σ/√n)"
   ]
  },
  {
   "cell_type": "markdown",
   "id": "b1424511-24a8-48bf-a3fd-97d29ff4c4e9",
   "metadata": {},
   "source": [
    "Where: x̄ = sample mean (4.6 minutes), μ = population mean (5 minutes), σ = population standard deviation (0.8 minutes), n = sample size (40)"
   ]
  },
  {
   "cell_type": "code",
   "execution_count": 1,
   "id": "f50a8af6-df66-4e6c-b0c1-6e8fc20a13d7",
   "metadata": {},
   "outputs": [
    {
     "data": {
      "text/plain": [
       "-3.162277660168382"
      ]
     },
     "execution_count": 1,
     "metadata": {},
     "output_type": "execute_result"
    }
   ],
   "source": [
    "import math\n",
    "t=(4.6-5)/(0.8/math.sqrt(40))\n",
    "t"
   ]
  },
  {
   "cell_type": "markdown",
   "id": "5be60d0a-437c-48b8-a0f7-acf0f9d1445c",
   "metadata": {},
   "source": [
    "Now, we'll compare this t-value to the critical t-value at a significance level of 0.05 with degrees of freedom (df)"
   ]
  },
  {
   "cell_type": "markdown",
   "id": "6b9445bf-ac07-45bc-ace8-301dd459e5c0",
   "metadata": {},
   "source": [
    "### Determine Critical Value or P-value:\r",
    "For a one-tailed test at α = 0.05 and df = 39, the critical t-value is approximately -1.685 (since we're testing for less than)."
   ]
  },
  {
   "cell_type": "markdown",
   "id": "cc80ba75-a94d-4eb8-809c-fd9d48599c59",
   "metadata": {},
   "source": [
    "#corresponds to an alpha level of 0.05.\n",
    "\n",
    "Critical value=-1.645"
   ]
  },
  {
   "cell_type": "markdown",
   "id": "de780381-b384-4b5b-81d8-e4204594fae9",
   "metadata": {},
   "source": [
    "### Conslusion:\n",
    "Since our calculated z-score (-3.16) is much smaller than the critical value (-1.645), we reject the null hypothesis.\r\n",
    "We have sufficient evidence to conclude that the average wait time for customers at the coffee shop is indeed less than 5 minutes."
   ]
  },
  {
   "cell_type": "code",
   "execution_count": null,
   "id": "df7b20bd-56d9-43fe-a9e5-d22f51c332c8",
   "metadata": {},
   "outputs": [],
   "source": []
  }
 ],
 "metadata": {
  "kernelspec": {
   "display_name": "Python 3 (ipykernel)",
   "language": "python",
   "name": "python3"
  },
  "language_info": {
   "codemirror_mode": {
    "name": "ipython",
    "version": 3
   },
   "file_extension": ".py",
   "mimetype": "text/x-python",
   "name": "python",
   "nbconvert_exporter": "python",
   "pygments_lexer": "ipython3",
   "version": "3.12.0"
  }
 },
 "nbformat": 4,
 "nbformat_minor": 5
}
